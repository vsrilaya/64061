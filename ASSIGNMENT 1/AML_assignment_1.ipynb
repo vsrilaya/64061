{
  "cells": [
    {
      "cell_type": "markdown",
      "metadata": {
        "id": "Z1Tqhc9QUSh2"
      },
      "source": [
        "Importing all necessary modules"
      ]
    },
    {
      "cell_type": "code",
      "execution_count": null,
      "metadata": {
        "id": "Wz2CLHqVGTgw"
      },
      "outputs": [],
      "source": [
        "import os\n",
        "from operator import itemgetter\n",
        "import numpy as np\n",
        "import pandas as pd\n",
        "import matplotlib.pyplot as plt\n",
        "import tensorflow as tf\n",
        "\n",
        "from keras import models, regularizers, layers, optimizers, losses, metrics\n",
        "from keras.models import Sequential\n",
        "from keras.layers import Dense\n",
        "from keras.utils import np_utils, to_categorical\n",
        "\n",
        "from keras.datasets import imdb"
      ]
    },
    {
      "cell_type": "markdown",
      "metadata": {
        "id": "bWWXmkg9UhrQ"
      },
      "source": [
        "\n",
        "\n",
        "```\n",
        "# This is formatted as code\n",
        "```\n",
        "\n",
        "IMDB data loading"
      ]
    },
    {
      "cell_type": "code",
      "execution_count": null,
      "metadata": {
        "id": "Zf6zhyX8UC_X"
      },
      "outputs": [],
      "source": [
        "(train_data, train_labels), (test_data, test_labels) = imdb.load_data(\n",
        "num_words=10000)"
      ]
    },
    {
      "cell_type": "markdown",
      "metadata": {
        "id": "LKyl9kHXGkRx"
      },
      "source": [
        "*Vectorizing* the data"
      ]
    },
    {
      "cell_type": "code",
      "execution_count": null,
      "metadata": {
        "id": "r1k5-R1EGlAl"
      },
      "outputs": [],
      "source": [
        "def vectorize_sequences(sequences, dimension=10000):\n",
        "    results = np.zeros((len(sequences), dimension))\n",
        "    for i, sequence in enumerate(sequences):\n",
        "        results[i, sequence] = 1.\n",
        "    return results"
      ]
    },
    {
      "cell_type": "markdown",
      "metadata": {
        "id": "imdN6v_aUvmb"
      },
      "source": []
    },
    {
      "cell_type": "code",
      "execution_count": null,
      "metadata": {
        "id": "gjnun7fbUwMg"
      },
      "outputs": [],
      "source": [
        "x_train = vectorize_sequences(train_data)\n",
        "x_test = vectorize_sequences(test_data)\n"
      ]
    },
    {
      "cell_type": "code",
      "execution_count": null,
      "metadata": {
        "colab": {
          "base_uri": "https://localhost:8080/"
        },
        "id": "2HxYMo-0VJ0-",
        "outputId": "6a13da51-d9ba-437f-e941-1ebe7ab21b0f"
      },
      "outputs": [
        {
          "name": "stdout",
          "output_type": "stream",
          "text": [
            "y_train  (25000,)\n",
            "y_test  (25000,)\n"
          ]
        }
      ],
      "source": [
        "y_train = np.asarray(train_labels).astype('float32')\n",
        "y_test = np.asarray(test_labels).astype('float32')\n",
        "print(\"y_train \", y_train.shape)\n",
        "print(\"y_test \", y_test.shape)"
      ]
    },
    {
      "cell_type": "code",
      "execution_count": null,
      "metadata": {
        "id": "9GGAvfJNVNMs"
      },
      "outputs": [],
      "source": [
        "x_val = x_train[:10000]\n",
        "partial_x_train = x_train[10000:]\n",
        "y_val = y_train[:10000]\n",
        "partial_y_train = y_train[10000:]"
      ]
    },
    {
      "cell_type": "markdown",
      "metadata": {
        "id": "Nv0jSSvHVWRK"
      },
      "source": [
        "\n",
        "\n",
        "```\n",
        "# This is formatted as code\n",
        "```\n",
        "\n",
        "Building a model with two hidden layers, 16 hidden units, and the relu activation function"
      ]
    },
    {
      "cell_type": "code",
      "execution_count": null,
      "metadata": {
        "id": "ycajU8zHVdpy"
      },
      "outputs": [],
      "source": [
        "model = models.Sequential()\n",
        "model.add(layers.Dense(16,  activation='relu', input_shape=(10000,)))\n",
        "model.add(layers.Dense(16, activation='relu'))\n",
        "model.add(layers.Dense(1, activation='sigmoid'))"
      ]
    },
    {
      "cell_type": "markdown",
      "metadata": {
        "id": "hwXoNO5SVhcO"
      },
      "source": [
        "Compiling the model using rnsprob optimizer and binary crossentropy loss function"
      ]
    },
    {
      "cell_type": "code",
      "execution_count": null,
      "metadata": {
        "colab": {
          "base_uri": "https://localhost:8080/"
        },
        "id": "s7TH2TLaVg-N",
        "outputId": "5fa3bbe2-da6a-48c8-ba2e-148bff0cadb6"
      },
      "outputs": [
        {
          "name": "stdout",
          "output_type": "stream",
          "text": [
            "Epoch 1/20\n",
            "30/30 [==============================] - 3s 85ms/step - loss: 0.5443 - acc: 0.7663 - val_loss: 0.4053 - val_acc: 0.8663\n",
            "Epoch 2/20\n",
            "30/30 [==============================] - 1s 30ms/step - loss: 0.3337 - acc: 0.8900 - val_loss: 0.3153 - val_acc: 0.8866\n",
            "Epoch 3/20\n",
            "30/30 [==============================] - 1s 34ms/step - loss: 0.2472 - acc: 0.9194 - val_loss: 0.2894 - val_acc: 0.8878\n",
            "Epoch 4/20\n",
            "30/30 [==============================] - 1s 27ms/step - loss: 0.1977 - acc: 0.9352 - val_loss: 0.3111 - val_acc: 0.8768\n",
            "Epoch 5/20\n",
            "30/30 [==============================] - 1s 22ms/step - loss: 0.1655 - acc: 0.9456 - val_loss: 0.2794 - val_acc: 0.8893\n",
            "Epoch 6/20\n",
            "30/30 [==============================] - 1s 27ms/step - loss: 0.1405 - acc: 0.9557 - val_loss: 0.3026 - val_acc: 0.8830\n",
            "Epoch 7/20\n",
            "30/30 [==============================] - 1s 26ms/step - loss: 0.1217 - acc: 0.9618 - val_loss: 0.3027 - val_acc: 0.8859\n",
            "Epoch 8/20\n",
            "30/30 [==============================] - 1s 42ms/step - loss: 0.1002 - acc: 0.9700 - val_loss: 0.3219 - val_acc: 0.8774\n",
            "Epoch 9/20\n",
            "30/30 [==============================] - 2s 52ms/step - loss: 0.0912 - acc: 0.9715 - val_loss: 0.3284 - val_acc: 0.8844\n",
            "Epoch 10/20\n",
            "30/30 [==============================] - 1s 28ms/step - loss: 0.0754 - acc: 0.9793 - val_loss: 0.3593 - val_acc: 0.8812\n",
            "Epoch 11/20\n",
            "30/30 [==============================] - 1s 29ms/step - loss: 0.0672 - acc: 0.9819 - val_loss: 0.3632 - val_acc: 0.8782\n",
            "Epoch 12/20\n",
            "30/30 [==============================] - 1s 21ms/step - loss: 0.0558 - acc: 0.9864 - val_loss: 0.3966 - val_acc: 0.8800\n",
            "Epoch 13/20\n",
            "30/30 [==============================] - 1s 21ms/step - loss: 0.0508 - acc: 0.9894 - val_loss: 0.4039 - val_acc: 0.8773\n",
            "Epoch 14/20\n",
            "30/30 [==============================] - 1s 29ms/step - loss: 0.0405 - acc: 0.9917 - val_loss: 0.4319 - val_acc: 0.8773\n",
            "Epoch 15/20\n",
            "30/30 [==============================] - 1s 26ms/step - loss: 0.0364 - acc: 0.9924 - val_loss: 0.4449 - val_acc: 0.8746\n",
            "Epoch 16/20\n",
            "30/30 [==============================] - 1s 22ms/step - loss: 0.0279 - acc: 0.9957 - val_loss: 0.4780 - val_acc: 0.8665\n",
            "Epoch 17/20\n",
            "30/30 [==============================] - 1s 27ms/step - loss: 0.0259 - acc: 0.9954 - val_loss: 0.5237 - val_acc: 0.8718\n",
            "Epoch 18/20\n",
            "30/30 [==============================] - 1s 24ms/step - loss: 0.0236 - acc: 0.9952 - val_loss: 0.5207 - val_acc: 0.8728\n",
            "Epoch 19/20\n",
            "30/30 [==============================] - 1s 25ms/step - loss: 0.0173 - acc: 0.9973 - val_loss: 0.5471 - val_acc: 0.8719\n",
            "Epoch 20/20\n",
            "30/30 [==============================] - 1s 21ms/step - loss: 0.0138 - acc: 0.9983 - val_loss: 0.5589 - val_acc: 0.8696\n",
            "782/782 [==============================] - 2s 2ms/step - loss: 0.5998 - acc: 0.8582\n",
            "____________________________________________________________________________________________________\n",
            "Test Loss and Accuracy\n",
            "results  [0.5998051762580872, 0.8581600189208984]\n"
          ]
        },
        {
          "data": {
            "text/plain": [
              "dict_keys(['loss', 'acc', 'val_loss', 'val_acc'])"
            ]
          },
          "execution_count": 8,
          "metadata": {},
          "output_type": "execute_result"
        }
      ],
      "source": [
        "model.compile(optimizer='rmsprop', loss='binary_crossentropy', metrics=['acc'])\n",
        "\n",
        "history = model.fit(partial_x_train, partial_y_train, epochs=20, batch_size=512, validation_data=(x_val, y_val))\n",
        "\n",
        "results = model.evaluate(x_test, y_test)\n",
        "print(\"_\"*100)\n",
        "print(\"Test Loss and Accuracy\")\n",
        "print(\"results \", results)\n",
        "history_dict = history.history\n",
        "history_dict.keys()"
      ]
    },
    {
      "cell_type": "markdown",
      "metadata": {
        "id": "zQnLvgVCVpZW"
      },
      "source": [
        "plotting training and validation accuracy"
      ]
    },
    {
      "cell_type": "code",
      "execution_count": null,
      "metadata": {
        "colab": {
          "base_uri": "https://localhost:8080/",
          "height": 295
        },
        "id": "-35qW41FVwg5",
        "outputId": "172448fa-e0b8-4b2d-be27-e3ab908c4fcf"
      },
      "outputs": [
        {
          "data": {
            "image/png": "[encoded data removed]",
            "text/plain": [
              "<Figure size 432x288 with 1 Axes>"
            ]
          },
          "metadata": {
            "needs_background": "light"
          },
          "output_type": "display_data"
        }
      ],
      "source": [
        "plt.clf()\n",
        "acc_values = history_dict['acc']\n",
        "val_acc_values = history_dict['val_acc']\n",
        "epochs = range(1, (len(history_dict['acc']) + 1))\n",
        "plt.plot(epochs, acc_values, 'bo', label='Training acc')\n",
        "plt.plot(epochs, val_acc_values, 'b', label='Validation acc')\n",
        "plt.title('Training and validation accuracy')\n",
        "plt.xlabel('Epochs')\n",
        "plt.ylabel('Accuracy')\n",
        "plt.legend()\n",
        "plt.show()"
      ]
    },
    {
      "cell_type": "markdown",
      "metadata": {
        "id": "niVixwjUWBaJ"
      },
      "source": [
        "plotting training and validation loss"
      ]
    },
    {
      "cell_type": "code",
      "execution_count": null,
      "metadata": {
        "colab": {
          "base_uri": "https://localhost:8080/",
          "height": 295
        },
        "id": "gztqwUXJWFJi",
        "outputId": "86d1de32-e4b3-4f34-8f73-635dc49d406d"
      },
      "outputs": [
        {
          "data": {
            "image/png": "[encoded data removed]",
            "text/plain": [
              "<Figure size 432x288 with 1 Axes>"
            ]
          },
          "metadata": {
            "needs_background": "light"
          },
          "output_type": "display_data"
        }
      ],
      "source": [
        "plt.clf()\n",
        "history_dict = history.history\n",
        "loss_values = history_dict['loss']\n",
        "val_loss_values = history_dict['val_loss']\n",
        "epochs = range(1, (len(history_dict['loss']) + 1))\n",
        "plt.plot(epochs, loss_values, 'bo', label='Training loss')\n",
        "plt.plot(epochs, val_loss_values, 'b', label='Validation loss')\n",
        "plt.title('Training and validation loss')\n",
        "plt.xlabel('Epochs')\n",
        "plt.ylabel('Loss')\n",
        "plt.legend()\n",
        "plt.show()"
      ]
    },
    {
      "cell_type": "markdown",
      "metadata": {
        "id": "ArlX0ilbWKlS"
      },
      "source": [
        "Building model using one hidden layer with 16 hidden units and relu activation function"
      ]
    },
    {
      "cell_type": "code",
      "execution_count": null,
      "metadata": {
        "id": "UYO-K8OLWP1u"
      },
      "outputs": [],
      "source": [
        "model_1 = models.Sequential()\n",
        "model.add(layers.Dense(16,  activation='relu', input_shape=(10000,)))\n",
        "model_1.add(layers.Dense(1, activation='sigmoid'))"
      ]
    },
    {
      "cell_type": "code",
      "execution_count": null,
      "metadata": {
        "colab": {
          "base_uri": "https://localhost:8080/"
        },
        "id": "MJxHLNygWSuh",
        "outputId": "d74f0635-f74a-44ee-ebba-3e94f5aa8e5b"
      },
      "outputs": [
        {
          "name": "stdout",
          "output_type": "stream",
          "text": [
            "Epoch 1/20\n",
            "30/30 [==============================] - 1s 25ms/step - loss: 0.6123 - acc: 0.7555 - val_loss: 0.5602 - val_acc: 0.8160\n",
            "Epoch 2/20\n",
            "30/30 [==============================] - 0s 12ms/step - loss: 0.5154 - acc: 0.8459 - val_loss: 0.4989 - val_acc: 0.8360\n",
            "Epoch 3/20\n",
            "30/30 [==============================] - 0s 12ms/step - loss: 0.4553 - acc: 0.8670 - val_loss: 0.4527 - val_acc: 0.8534\n",
            "Epoch 4/20\n",
            "30/30 [==============================] - 0s 13ms/step - loss: 0.4104 - acc: 0.8835 - val_loss: 0.4193 - val_acc: 0.8623\n",
            "Epoch 5/20\n",
            "30/30 [==============================] - 0s 12ms/step - loss: 0.3757 - acc: 0.8929 - val_loss: 0.3936 - val_acc: 0.8672\n",
            "Epoch 6/20\n",
            "30/30 [==============================] - 0s 13ms/step - loss: 0.3477 - acc: 0.8998 - val_loss: 0.3733 - val_acc: 0.8717\n",
            "Epoch 7/20\n",
            "30/30 [==============================] - 0s 14ms/step - loss: 0.3248 - acc: 0.9063 - val_loss: 0.3572 - val_acc: 0.8759\n",
            "Epoch 8/20\n",
            "30/30 [==============================] - 0s 11ms/step - loss: 0.3056 - acc: 0.9123 - val_loss: 0.3442 - val_acc: 0.8793\n",
            "Epoch 9/20\n",
            "30/30 [==============================] - 0s 15ms/step - loss: 0.2896 - acc: 0.9166 - val_loss: 0.3334 - val_acc: 0.8804\n",
            "Epoch 10/20\n",
            "30/30 [==============================] - 0s 13ms/step - loss: 0.2756 - acc: 0.9210 - val_loss: 0.3247 - val_acc: 0.8836\n",
            "Epoch 11/20\n",
            "30/30 [==============================] - 1s 23ms/step - loss: 0.2635 - acc: 0.9235 - val_loss: 0.3172 - val_acc: 0.8855\n",
            "Epoch 12/20\n",
            "30/30 [==============================] - 1s 17ms/step - loss: 0.2528 - acc: 0.9278 - val_loss: 0.3108 - val_acc: 0.8859\n",
            "Epoch 13/20\n",
            "30/30 [==============================] - 0s 12ms/step - loss: 0.2432 - acc: 0.9303 - val_loss: 0.3055 - val_acc: 0.8871\n",
            "Epoch 14/20\n",
            "30/30 [==============================] - 1s 17ms/step - loss: 0.2346 - acc: 0.9321 - val_loss: 0.3017 - val_acc: 0.8883\n",
            "Epoch 15/20\n",
            "30/30 [==============================] - 1s 21ms/step - loss: 0.2267 - acc: 0.9349 - val_loss: 0.2969 - val_acc: 0.8873\n",
            "Epoch 16/20\n",
            "30/30 [==============================] - 0s 16ms/step - loss: 0.2196 - acc: 0.9371 - val_loss: 0.2937 - val_acc: 0.8884\n",
            "Epoch 17/20\n",
            "30/30 [==============================] - 0s 13ms/step - loss: 0.2129 - acc: 0.9395 - val_loss: 0.2913 - val_acc: 0.8883\n",
            "Epoch 18/20\n",
            "30/30 [==============================] - 0s 13ms/step - loss: 0.2071 - acc: 0.9414 - val_loss: 0.2881 - val_acc: 0.8890\n",
            "Epoch 19/20\n",
            "30/30 [==============================] - 1s 21ms/step - loss: 0.2014 - acc: 0.9431 - val_loss: 0.2859 - val_acc: 0.8892\n",
            "Epoch 20/20\n",
            "30/30 [==============================] - 1s 24ms/step - loss: 0.1962 - acc: 0.9450 - val_loss: 0.2843 - val_acc: 0.8894\n",
            "782/782 [==============================] - 1s 2ms/step - loss: 0.2980 - acc: 0.8824\n",
            "____________________________________________________________________________________________________\n",
            "Test Loss and Accuracy\n",
            "results_1  [0.29797279834747314, 0.8823999762535095]\n"
          ]
        },
        {
          "data": {
            "text/plain": [
              "dict_keys(['loss', 'acc', 'val_loss', 'val_acc'])"
            ]
          },
          "execution_count": 12,
          "metadata": {},
          "output_type": "execute_result"
        }
      ],
      "source": [
        "model_1.compile(optimizer='rmsprop', loss='binary_crossentropy', metrics=['acc'])\n",
        "\n",
        "history_1 = model_1.fit(partial_x_train, partial_y_train, epochs=20, batch_size=512, validation_data=(x_val, y_val))\n",
        "\n",
        "results_1 = model_1.evaluate(x_test, y_test)\n",
        "print(\"_\"*100)\n",
        "print(\"Test Loss and Accuracy\")\n",
        "print(\"results_1 \", results_1)\n",
        "history_dict_1 = history_1.history\n",
        "history_dict_1.keys()"
      ]
    },
    {
      "cell_type": "markdown",
      "metadata": {
        "id": "J-a0wnYKWVM4"
      },
      "source": [
        "Building model using three hidden layer with 16 hidden units and relu activation function"
      ]
    },
    {
      "cell_type": "code",
      "execution_count": null,
      "metadata": {
        "id": "43m88UANWZiy"
      },
      "outputs": [],
      "source": [
        "model_2 = models.Sequential()\n",
        "model_2.add(layers.Dense(16,  activation='relu', input_shape=(10000,)))\n",
        "model_2.add(layers.Dense(16, activation='relu'))\n",
        "model_2.add(layers.Dense(16, activation='relu'))\n",
        "model_2.add(layers.Dense(1, activation='sigmoid'))"
      ]
    },
    {
      "cell_type": "code",
      "execution_count": null,
      "metadata": {
        "colab": {
          "base_uri": "https://localhost:8080/"
        },
        "id": "PhqTDawRWfHY",
        "outputId": "fbd55a1a-b653-4dec-c208-c311b57466b2"
      },
      "outputs": [
        {
          "name": "stdout",
          "output_type": "stream",
          "text": [
            "Epoch 1/20\n",
            "30/30 [==============================] - 3s 69ms/step - loss: 0.5621 - acc: 0.7546 - val_loss: 0.4215 - val_acc: 0.8633\n",
            "Epoch 2/20\n",
            "30/30 [==============================] - 3s 97ms/step - loss: 0.3421 - acc: 0.8889 - val_loss: 0.3426 - val_acc: 0.8630\n",
            "Epoch 3/20\n",
            "30/30 [==============================] - 1s 42ms/step - loss: 0.2518 - acc: 0.9139 - val_loss: 0.2914 - val_acc: 0.8846\n",
            "Epoch 4/20\n",
            "30/30 [==============================] - 1s 28ms/step - loss: 0.1994 - acc: 0.9307 - val_loss: 0.2811 - val_acc: 0.8859\n",
            "Epoch 5/20\n",
            "30/30 [==============================] - 1s 22ms/step - loss: 0.1642 - acc: 0.9449 - val_loss: 0.2830 - val_acc: 0.8855\n",
            "Epoch 6/20\n",
            "30/30 [==============================] - 1s 20ms/step - loss: 0.1377 - acc: 0.9549 - val_loss: 0.3576 - val_acc: 0.8639\n",
            "Epoch 7/20\n",
            "30/30 [==============================] - 1s 28ms/step - loss: 0.1186 - acc: 0.9618 - val_loss: 0.3099 - val_acc: 0.8843\n",
            "Epoch 8/20\n",
            "30/30 [==============================] - 1s 34ms/step - loss: 0.0982 - acc: 0.9711 - val_loss: 0.3253 - val_acc: 0.8834\n",
            "Epoch 9/20\n",
            "30/30 [==============================] - 1s 27ms/step - loss: 0.0876 - acc: 0.9713 - val_loss: 0.3524 - val_acc: 0.8809\n",
            "Epoch 10/20\n",
            "30/30 [==============================] - 1s 33ms/step - loss: 0.0708 - acc: 0.9792 - val_loss: 0.3738 - val_acc: 0.8738\n",
            "Epoch 11/20\n",
            "30/30 [==============================] - 1s 26ms/step - loss: 0.0583 - acc: 0.9841 - val_loss: 0.3996 - val_acc: 0.8780\n",
            "Epoch 12/20\n",
            "30/30 [==============================] - 1s 29ms/step - loss: 0.0552 - acc: 0.9837 - val_loss: 0.4155 - val_acc: 0.8757\n",
            "Epoch 13/20\n",
            "30/30 [==============================] - 1s 32ms/step - loss: 0.0413 - acc: 0.9900 - val_loss: 0.4476 - val_acc: 0.8706\n",
            "Epoch 14/20\n",
            "30/30 [==============================] - 1s 31ms/step - loss: 0.0411 - acc: 0.9882 - val_loss: 0.4656 - val_acc: 0.8711\n",
            "Epoch 15/20\n",
            "30/30 [==============================] - 1s 42ms/step - loss: 0.0316 - acc: 0.9920 - val_loss: 0.4884 - val_acc: 0.8721\n",
            "Epoch 16/20\n",
            "30/30 [==============================] - 1s 41ms/step - loss: 0.0278 - acc: 0.9933 - val_loss: 0.5206 - val_acc: 0.8687\n",
            "Epoch 17/20\n",
            "30/30 [==============================] - 1s 27ms/step - loss: 0.0266 - acc: 0.9927 - val_loss: 0.5389 - val_acc: 0.8696\n",
            "Epoch 18/20\n",
            "30/30 [==============================] - 1s 30ms/step - loss: 0.0125 - acc: 0.9990 - val_loss: 0.6158 - val_acc: 0.8650\n",
            "Epoch 19/20\n",
            "30/30 [==============================] - 1s 31ms/step - loss: 0.0166 - acc: 0.9963 - val_loss: 0.7483 - val_acc: 0.8431\n",
            "Epoch 20/20\n",
            "30/30 [==============================] - 1s 32ms/step - loss: 0.0113 - acc: 0.9984 - val_loss: 0.7729 - val_acc: 0.8440\n",
            "782/782 [==============================] - 1s 2ms/step - loss: 0.8539 - acc: 0.8326\n",
            "____________________________________________________________________________________________________\n",
            "Test Loss and Accuracy\n",
            "results_2  [0.8539203405380249, 0.8325600028038025]\n"
          ]
        },
        {
          "data": {
            "text/plain": [
              "dict_keys(['loss', 'acc', 'val_loss', 'val_acc'])"
            ]
          },
          "execution_count": 14,
          "metadata": {},
          "output_type": "execute_result"
        }
      ],
      "source": [
        "model_2.compile(optimizer='rmsprop', loss='binary_crossentropy', metrics=['acc'])\n",
        "\n",
        "history_2 = model_2.fit(partial_x_train, partial_y_train, epochs=20, batch_size=512, validation_data=(x_val, y_val))\n",
        "\n",
        "results_2 = model_2.evaluate(x_test, y_test)\n",
        "print(\"_\"*100)\n",
        "print(\"Test Loss and Accuracy\")\n",
        "print(\"results_2 \", results_2)\n",
        "history_dict_2 = history_2.history\n",
        "history_dict_2.keys()"
      ]
    },
    {
      "cell_type": "markdown",
      "metadata": {
        "id": "4Yr_ulq-Wk-t"
      },
      "source": [
        "Now lets try with 32 hidden units instead of 16 and one hidden layer"
      ]
    },
    {
      "cell_type": "code",
      "execution_count": null,
      "metadata": {
        "id": "v0A4E0APWovG"
      },
      "outputs": [],
      "source": [
        "model_3 = models.Sequential()\n",
        "model_3.add(layers.Dense(32,  activation='relu', input_shape=(10000,)))\n",
        "model_3.add(layers.Dense(1, activation='sigmoid'))"
      ]
    },
    {
      "cell_type": "code",
      "execution_count": null,
      "metadata": {
        "colab": {
          "base_uri": "https://localhost:8080/"
        },
        "id": "Fn78M8HtWrBV",
        "outputId": "d6c59b7c-c18f-4263-aba3-3dfa52353d7d"
      },
      "outputs": [
        {
          "name": "stdout",
          "output_type": "stream",
          "text": [
            "Epoch 1/20\n",
            "30/30 [==============================] - 2s 40ms/step - loss: 0.4983 - acc: 0.7938 - val_loss: 0.3752 - val_acc: 0.8722\n",
            "Epoch 2/20\n",
            "30/30 [==============================] - 1s 35ms/step - loss: 0.3177 - acc: 0.8930 - val_loss: 0.3133 - val_acc: 0.8848\n",
            "Epoch 3/20\n",
            "30/30 [==============================] - 1s 40ms/step - loss: 0.2515 - acc: 0.9165 - val_loss: 0.3017 - val_acc: 0.8780\n",
            "Epoch 4/20\n",
            "30/30 [==============================] - 1s 30ms/step - loss: 0.2130 - acc: 0.9281 - val_loss: 0.2818 - val_acc: 0.8871\n",
            "Epoch 5/20\n",
            "30/30 [==============================] - 1s 26ms/step - loss: 0.1847 - acc: 0.9393 - val_loss: 0.2742 - val_acc: 0.8889\n",
            "Epoch 6/20\n",
            "30/30 [==============================] - 1s 32ms/step - loss: 0.1637 - acc: 0.9491 - val_loss: 0.2828 - val_acc: 0.8842\n",
            "Epoch 7/20\n",
            "30/30 [==============================] - 1s 31ms/step - loss: 0.1476 - acc: 0.9537 - val_loss: 0.2802 - val_acc: 0.8851\n",
            "Epoch 8/20\n",
            "30/30 [==============================] - 1s 31ms/step - loss: 0.1330 - acc: 0.9592 - val_loss: 0.2857 - val_acc: 0.8845\n",
            "Epoch 9/20\n",
            "30/30 [==============================] - 1s 29ms/step - loss: 0.1195 - acc: 0.9654 - val_loss: 0.3408 - val_acc: 0.8671\n",
            "Epoch 10/20\n",
            "30/30 [==============================] - 1s 30ms/step - loss: 0.1093 - acc: 0.9695 - val_loss: 0.2998 - val_acc: 0.8826\n",
            "Epoch 11/20\n",
            "30/30 [==============================] - 1s 32ms/step - loss: 0.0993 - acc: 0.9725 - val_loss: 0.3142 - val_acc: 0.8817\n",
            "Epoch 12/20\n",
            "30/30 [==============================] - 1s 36ms/step - loss: 0.0915 - acc: 0.9751 - val_loss: 0.3176 - val_acc: 0.8806\n",
            "Epoch 13/20\n",
            "30/30 [==============================] - 1s 50ms/step - loss: 0.0835 - acc: 0.9789 - val_loss: 0.3513 - val_acc: 0.8768\n",
            "Epoch 14/20\n",
            "30/30 [==============================] - 2s 70ms/step - loss: 0.0763 - acc: 0.9817 - val_loss: 0.3660 - val_acc: 0.8669\n",
            "Epoch 15/20\n",
            "30/30 [==============================] - 1s 39ms/step - loss: 0.0685 - acc: 0.9849 - val_loss: 0.3455 - val_acc: 0.8790\n",
            "Epoch 16/20\n",
            "30/30 [==============================] - 1s 26ms/step - loss: 0.0661 - acc: 0.9853 - val_loss: 0.3641 - val_acc: 0.8703\n",
            "Epoch 17/20\n",
            "30/30 [==============================] - 1s 26ms/step - loss: 0.0600 - acc: 0.9875 - val_loss: 0.4128 - val_acc: 0.8710\n",
            "Epoch 18/20\n",
            "30/30 [==============================] - 1s 29ms/step - loss: 0.0533 - acc: 0.9905 - val_loss: 0.3792 - val_acc: 0.8771\n",
            "Epoch 19/20\n",
            "30/30 [==============================] - 1s 31ms/step - loss: 0.0493 - acc: 0.9912 - val_loss: 0.3824 - val_acc: 0.8745\n",
            "Epoch 20/20\n",
            "30/30 [==============================] - 1s 25ms/step - loss: 0.0447 - acc: 0.9925 - val_loss: 0.4251 - val_acc: 0.8731\n",
            "782/782 [==============================] - 2s 2ms/step - loss: 0.4452 - acc: 0.8615\n",
            "____________________________________________________________________________________________________\n",
            "Test Loss and Accuracy\n",
            "results_3  [0.4451521337032318, 0.861519992351532]\n"
          ]
        },
        {
          "data": {
            "text/plain": [
              "dict_keys(['loss', 'acc', 'val_loss', 'val_acc'])"
            ]
          },
          "execution_count": 16,
          "metadata": {},
          "output_type": "execute_result"
        }
      ],
      "source": [
        "model_3.compile(optimizer='rmsprop', loss='binary_crossentropy', metrics=['acc'])\n",
        "\n",
        "history_3 = model_3.fit(partial_x_train, partial_y_train, epochs=20, batch_size=512, validation_data=(x_val, y_val))\n",
        "\n",
        "results_3 = model_3.evaluate(x_test, y_test)\n",
        "print(\"_\"*100)\n",
        "print(\"Test Loss and Accuracy\")\n",
        "print(\"results_3 \", results_3)\n",
        "history_dict_3 = history_3.history\n",
        "history_dict_3.keys()"
      ]
    },
    {
      "cell_type": "markdown",
      "metadata": {
        "id": "l7oBQ27rWxn1"
      },
      "source": [
        "Now lets try with 64 units and one hidden layer\n"
      ]
    },
    {
      "cell_type": "code",
      "execution_count": null,
      "metadata": {
        "id": "kSqTOYaaWtIN"
      },
      "outputs": [],
      "source": [
        "model_4 = models.Sequential()\n",
        "model_4.add(layers.Dense(64,  activation='relu', input_shape=(10000,)))\n",
        "model_4.add(layers.Dense(1, activation='sigmoid'))"
      ]
    },
    {
      "cell_type": "code",
      "execution_count": null,
      "metadata": {
        "colab": {
          "base_uri": "https://localhost:8080/"
        },
        "id": "Kd_aPiA-W5s1",
        "outputId": "c287b0e8-e7c4-468e-cf20-13de8a111112"
      },
      "outputs": [
        {
          "name": "stdout",
          "output_type": "stream",
          "text": [
            "Epoch 1/20\n",
            "30/30 [==============================] - 3s 83ms/step - loss: 0.4924 - acc: 0.7815 - val_loss: 0.4074 - val_acc: 0.8274\n",
            "Epoch 2/20\n",
            "30/30 [==============================] - 1s 37ms/step - loss: 0.3077 - acc: 0.8915 - val_loss: 0.3252 - val_acc: 0.8712\n",
            "Epoch 3/20\n",
            "30/30 [==============================] - 1s 39ms/step - loss: 0.2421 - acc: 0.9146 - val_loss: 0.2858 - val_acc: 0.8879\n",
            "Epoch 4/20\n",
            "30/30 [==============================] - 1s 44ms/step - loss: 0.2047 - acc: 0.9284 - val_loss: 0.2803 - val_acc: 0.8880\n",
            "Epoch 5/20\n",
            "30/30 [==============================] - 1s 41ms/step - loss: 0.1800 - acc: 0.9377 - val_loss: 0.2749 - val_acc: 0.8886\n",
            "Epoch 6/20\n",
            "30/30 [==============================] - 1s 39ms/step - loss: 0.1607 - acc: 0.9449 - val_loss: 0.3051 - val_acc: 0.8772\n",
            "Epoch 7/20\n",
            "30/30 [==============================] - 1s 44ms/step - loss: 0.1432 - acc: 0.9539 - val_loss: 0.3008 - val_acc: 0.8780\n",
            "Epoch 8/20\n",
            "30/30 [==============================] - 2s 52ms/step - loss: 0.1287 - acc: 0.9598 - val_loss: 0.3209 - val_acc: 0.8765\n",
            "Epoch 9/20\n",
            "30/30 [==============================] - 2s 63ms/step - loss: 0.1194 - acc: 0.9631 - val_loss: 0.3042 - val_acc: 0.8815\n",
            "Epoch 10/20\n",
            "30/30 [==============================] - 2s 51ms/step - loss: 0.1074 - acc: 0.9669 - val_loss: 0.3076 - val_acc: 0.8834\n",
            "Epoch 11/20\n",
            "30/30 [==============================] - 1s 38ms/step - loss: 0.1009 - acc: 0.9693 - val_loss: 0.3158 - val_acc: 0.8804\n",
            "Epoch 12/20\n",
            "30/30 [==============================] - 1s 40ms/step - loss: 0.0875 - acc: 0.9756 - val_loss: 0.3284 - val_acc: 0.8793\n",
            "Epoch 13/20\n",
            "30/30 [==============================] - 1s 38ms/step - loss: 0.0842 - acc: 0.9759 - val_loss: 0.3410 - val_acc: 0.8792\n",
            "Epoch 14/20\n",
            "30/30 [==============================] - 1s 40ms/step - loss: 0.0715 - acc: 0.9823 - val_loss: 0.3708 - val_acc: 0.8763\n",
            "Epoch 15/20\n",
            "30/30 [==============================] - 1s 39ms/step - loss: 0.0701 - acc: 0.9811 - val_loss: 0.3547 - val_acc: 0.8777\n",
            "Epoch 16/20\n",
            "30/30 [==============================] - 1s 39ms/step - loss: 0.0598 - acc: 0.9870 - val_loss: 0.3710 - val_acc: 0.8777\n",
            "Epoch 17/20\n",
            "30/30 [==============================] - 1s 45ms/step - loss: 0.0554 - acc: 0.9879 - val_loss: 0.3809 - val_acc: 0.8722\n",
            "Epoch 18/20\n",
            "30/30 [==============================] - 2s 52ms/step - loss: 0.0490 - acc: 0.9899 - val_loss: 0.3939 - val_acc: 0.8761\n",
            "Epoch 19/20\n",
            "30/30 [==============================] - 2s 60ms/step - loss: 0.0469 - acc: 0.9904 - val_loss: 0.4793 - val_acc: 0.8548\n",
            "Epoch 20/20\n",
            "30/30 [==============================] - 1s 39ms/step - loss: 0.0445 - acc: 0.9906 - val_loss: 0.4212 - val_acc: 0.8698\n",
            "782/782 [==============================] - 2s 3ms/step - loss: 0.4520 - acc: 0.8591\n",
            "____________________________________________________________________________________________________\n",
            "Test Loss and Accuracy\n",
            "results_4  [0.45198535919189453, 0.8590800166130066]\n"
          ]
        },
        {
          "data": {
            "text/plain": [
              "dict_keys(['loss', 'acc', 'val_loss', 'val_acc'])"
            ]
          },
          "execution_count": 18,
          "metadata": {},
          "output_type": "execute_result"
        }
      ],
      "source": [
        "model_4.compile(optimizer='rmsprop', loss='binary_crossentropy', metrics=['acc'])\n",
        "\n",
        "history_4 = model_4.fit(partial_x_train, partial_y_train, epochs=20, batch_size=512, validation_data=(x_val, y_val))\n",
        "\n",
        "results_4 = model_4.evaluate(x_test, y_test)\n",
        "print(\"_\"*100)\n",
        "print(\"Test Loss and Accuracy\")\n",
        "print(\"results_4 \", results_4)\n",
        "history_dict_4 = history_4.history\n",
        "history_dict_4.keys()"
      ]
    },
    {
      "cell_type": "markdown",
      "metadata": {
        "id": "VwbNO1n7W-f7"
      },
      "source": [
        "Now lets replace binary_crossentropy loss function with mse"
      ]
    },
    {
      "cell_type": "code",
      "execution_count": null,
      "metadata": {
        "id": "UJs2D7c0W6pz"
      },
      "outputs": [],
      "source": [
        "model_5 = models.Sequential()\n",
        "model_5.add(layers.Dense(16,  activation='relu', input_shape=(10000,)))\n",
        "model_5.add(layers.Dense(1, activation='sigmoid'))"
      ]
    },
    {
      "cell_type": "code",
      "execution_count": null,
      "metadata": {
        "colab": {
          "base_uri": "https://localhost:8080/"
        },
        "id": "d5e6CeWuXCQn",
        "outputId": "2664a6c8-044a-49f2-ebb9-26fb575ccc19"
      },
      "outputs": [
        {
          "name": "stdout",
          "output_type": "stream",
          "text": [
            "Epoch 1/20\n",
            "30/30 [==============================] - 2s 35ms/step - loss: 0.1753 - acc: 0.7821 - val_loss: 0.1297 - val_acc: 0.8651\n",
            "Epoch 2/20\n",
            "30/30 [==============================] - 1s 21ms/step - loss: 0.1072 - acc: 0.8896 - val_loss: 0.1053 - val_acc: 0.8776\n",
            "Epoch 3/20\n",
            "30/30 [==============================] - 1s 20ms/step - loss: 0.0845 - acc: 0.9116 - val_loss: 0.0966 - val_acc: 0.8808\n",
            "Epoch 4/20\n",
            "30/30 [==============================] - 1s 19ms/step - loss: 0.0714 - acc: 0.9249 - val_loss: 0.0933 - val_acc: 0.8794\n",
            "Epoch 5/20\n",
            "30/30 [==============================] - 1s 36ms/step - loss: 0.0633 - acc: 0.9324 - val_loss: 0.0870 - val_acc: 0.8890\n",
            "Epoch 6/20\n",
            "30/30 [==============================] - 1s 37ms/step - loss: 0.0569 - acc: 0.9425 - val_loss: 0.0916 - val_acc: 0.8777\n",
            "Epoch 7/20\n",
            "30/30 [==============================] - 1s 25ms/step - loss: 0.0517 - acc: 0.9475 - val_loss: 0.0865 - val_acc: 0.8846\n",
            "Epoch 8/20\n",
            "30/30 [==============================] - 1s 24ms/step - loss: 0.0481 - acc: 0.9511 - val_loss: 0.0838 - val_acc: 0.8861\n",
            "Epoch 9/20\n",
            "30/30 [==============================] - 1s 20ms/step - loss: 0.0444 - acc: 0.9573 - val_loss: 0.0836 - val_acc: 0.8854\n",
            "Epoch 10/20\n",
            "30/30 [==============================] - 1s 30ms/step - loss: 0.0412 - acc: 0.9609 - val_loss: 0.0851 - val_acc: 0.8846\n",
            "Epoch 11/20\n",
            "30/30 [==============================] - 1s 23ms/step - loss: 0.0390 - acc: 0.9629 - val_loss: 0.0856 - val_acc: 0.8828\n",
            "Epoch 12/20\n",
            "30/30 [==============================] - 1s 26ms/step - loss: 0.0359 - acc: 0.9681 - val_loss: 0.0862 - val_acc: 0.8825\n",
            "Epoch 13/20\n",
            "30/30 [==============================] - 1s 33ms/step - loss: 0.0343 - acc: 0.9695 - val_loss: 0.0855 - val_acc: 0.8834\n",
            "Epoch 14/20\n",
            "30/30 [==============================] - 1s 31ms/step - loss: 0.0321 - acc: 0.9727 - val_loss: 0.0854 - val_acc: 0.8813\n",
            "Epoch 15/20\n",
            "30/30 [==============================] - 1s 26ms/step - loss: 0.0301 - acc: 0.9753 - val_loss: 0.0862 - val_acc: 0.8808\n",
            "Epoch 16/20\n",
            "30/30 [==============================] - 1s 19ms/step - loss: 0.0286 - acc: 0.9765 - val_loss: 0.0878 - val_acc: 0.8802\n",
            "Epoch 17/20\n",
            "30/30 [==============================] - 1s 21ms/step - loss: 0.0269 - acc: 0.9791 - val_loss: 0.0873 - val_acc: 0.8812\n",
            "Epoch 18/20\n",
            "30/30 [==============================] - 1s 32ms/step - loss: 0.0260 - acc: 0.9801 - val_loss: 0.0885 - val_acc: 0.8770\n",
            "Epoch 19/20\n",
            "30/30 [==============================] - 1s 27ms/step - loss: 0.0245 - acc: 0.9820 - val_loss: 0.0893 - val_acc: 0.8784\n",
            "Epoch 20/20\n",
            "30/30 [==============================] - 1s 34ms/step - loss: 0.0231 - acc: 0.9830 - val_loss: 0.0893 - val_acc: 0.8782\n",
            "782/782 [==============================] - 2s 2ms/step - loss: 0.0953 - acc: 0.8701\n",
            "____________________________________________________________________________________________________\n",
            "Test Loss and Accuracy\n",
            "results_5  [0.09527716040611267, 0.8701199889183044]\n"
          ]
        },
        {
          "data": {
            "text/plain": [
              "dict_keys(['loss', 'acc', 'val_loss', 'val_acc'])"
            ]
          },
          "execution_count": 20,
          "metadata": {},
          "output_type": "execute_result"
        }
      ],
      "source": [
        "model_5.compile(optimizer='rmsprop', loss='mse', metrics=['acc'])\n",
        "\n",
        "history_5 = model_5.fit(partial_x_train, partial_y_train, epochs=20, batch_size=512, validation_data=(x_val, y_val))\n",
        "\n",
        "results_5 = model_5.evaluate(x_test, y_test)\n",
        "print(\"_\"*100)\n",
        "print(\"Test Loss and Accuracy\")\n",
        "print(\"results_5 \", results_5)\n",
        "history_dict_5 = history_5.history\n",
        "history_dict_5.keys()"
      ]
    },
    {
      "cell_type": "markdown",
      "metadata": {
        "id": "YcuIdo4VXOUZ"
      },
      "source": [
        "Using tanh function instead of relu"
      ]
    },
    {
      "cell_type": "code",
      "execution_count": null,
      "metadata": {
        "id": "WgPQpQqEXGYh"
      },
      "outputs": [],
      "source": [
        "model_6 = models.Sequential()\n",
        "model_6.add(layers.Dense(16,  activation='tanh', input_shape=(10000,)))\n",
        "model_6.add(layers.Dense(1, activation='sigmoid'))"
      ]
    },
    {
      "cell_type": "code",
      "execution_count": null,
      "metadata": {
        "colab": {
          "base_uri": "https://localhost:8080/"
        },
        "id": "uG-kZoBgXWcr",
        "outputId": "4a100246-b0fc-4f51-b6b7-79cc50947d2e"
      },
      "outputs": [
        {
          "name": "stdout",
          "output_type": "stream",
          "text": [
            "Epoch 1/20\n",
            "30/30 [==============================] - 3s 78ms/step - loss: 0.5242 - acc: 0.7929 - val_loss: 0.4179 - val_acc: 0.8634\n",
            "Epoch 2/20\n",
            "30/30 [==============================] - 1s 32ms/step - loss: 0.3519 - acc: 0.8914 - val_loss: 0.3470 - val_acc: 0.8739\n",
            "Epoch 3/20\n",
            "30/30 [==============================] - 1s 26ms/step - loss: 0.2792 - acc: 0.9111 - val_loss: 0.3101 - val_acc: 0.8812\n",
            "Epoch 4/20\n",
            "30/30 [==============================] - 1s 22ms/step - loss: 0.2346 - acc: 0.9234 - val_loss: 0.2975 - val_acc: 0.8814\n",
            "Epoch 5/20\n",
            "30/30 [==============================] - 1s 26ms/step - loss: 0.2032 - acc: 0.9349 - val_loss: 0.2778 - val_acc: 0.8869\n",
            "Epoch 6/20\n",
            "30/30 [==============================] - 1s 32ms/step - loss: 0.1789 - acc: 0.9454 - val_loss: 0.2819 - val_acc: 0.8848\n",
            "Epoch 7/20\n",
            "30/30 [==============================] - 1s 41ms/step - loss: 0.1611 - acc: 0.9486 - val_loss: 0.2727 - val_acc: 0.8852\n",
            "Epoch 8/20\n",
            "30/30 [==============================] - 1s 34ms/step - loss: 0.1432 - acc: 0.9564 - val_loss: 0.2755 - val_acc: 0.8874\n",
            "Epoch 9/20\n",
            "30/30 [==============================] - 1s 26ms/step - loss: 0.1299 - acc: 0.9609 - val_loss: 0.2853 - val_acc: 0.8856\n",
            "Epoch 10/20\n",
            "30/30 [==============================] - 1s 32ms/step - loss: 0.1163 - acc: 0.9665 - val_loss: 0.2880 - val_acc: 0.8848\n",
            "Epoch 11/20\n",
            "30/30 [==============================] - 1s 26ms/step - loss: 0.1066 - acc: 0.9697 - val_loss: 0.3012 - val_acc: 0.8795\n",
            "Epoch 12/20\n",
            "30/30 [==============================] - 1s 27ms/step - loss: 0.0963 - acc: 0.9729 - val_loss: 0.3089 - val_acc: 0.8789\n",
            "Epoch 13/20\n",
            "30/30 [==============================] - 1s 20ms/step - loss: 0.0874 - acc: 0.9769 - val_loss: 0.3146 - val_acc: 0.8815\n",
            "Epoch 14/20\n",
            "30/30 [==============================] - 1s 21ms/step - loss: 0.0789 - acc: 0.9801 - val_loss: 0.3262 - val_acc: 0.8798\n",
            "Epoch 15/20\n",
            "30/30 [==============================] - 1s 25ms/step - loss: 0.0703 - acc: 0.9837 - val_loss: 0.3400 - val_acc: 0.8800\n",
            "Epoch 16/20\n",
            "30/30 [==============================] - 1s 21ms/step - loss: 0.0647 - acc: 0.9854 - val_loss: 0.3522 - val_acc: 0.8780\n",
            "Epoch 17/20\n",
            "30/30 [==============================] - 1s 20ms/step - loss: 0.0583 - acc: 0.9874 - val_loss: 0.3707 - val_acc: 0.8754\n",
            "Epoch 18/20\n",
            "30/30 [==============================] - 1s 30ms/step - loss: 0.0529 - acc: 0.9893 - val_loss: 0.4180 - val_acc: 0.8697\n",
            "Epoch 19/20\n",
            "30/30 [==============================] - 1s 22ms/step - loss: 0.0471 - acc: 0.9909 - val_loss: 0.3915 - val_acc: 0.8747\n",
            "Epoch 20/20\n",
            "30/30 [==============================] - 1s 26ms/step - loss: 0.0429 - acc: 0.9925 - val_loss: 0.4057 - val_acc: 0.8737\n",
            "782/782 [==============================] - 1s 2ms/step - loss: 0.4356 - acc: 0.8637\n",
            "____________________________________________________________________________________________________\n",
            "Test Loss and Accuracy\n",
            "results_6  [0.4356374740600586, 0.8637199997901917]\n"
          ]
        },
        {
          "data": {
            "text/plain": [
              "dict_keys(['loss', 'acc', 'val_loss', 'val_acc'])"
            ]
          },
          "execution_count": 13,
          "metadata": {},
          "output_type": "execute_result"
        }
      ],
      "source": [
        "model_6.compile(optimizer='rmsprop', loss='binary_crossentropy', metrics=['acc'])\n",
        "\n",
        "history_6 = model_6.fit(partial_x_train, partial_y_train, epochs=20, batch_size=512, validation_data=(x_val, y_val))\n",
        "\n",
        "results_6= model_6.evaluate(x_test, y_test)\n",
        "print(\"_\"*100)\n",
        "print(\"Test Loss and Accuracy\")\n",
        "print(\"results_6 \", results_6)\n",
        "history_dict_6 = history_6.history\n",
        "history_dict_6.keys()"
      ]
    },
    {
      "cell_type": "markdown",
      "metadata": {
        "id": "m4zh2x1mXb3R"
      },
      "source": [
        "Using drop out for three hidden layers with 64 units, MSE loss function and RELU"
      ]
    },
    {
      "cell_type": "code",
      "execution_count": null,
      "metadata": {
        "id": "p9RM5wGKXbCm"
      },
      "outputs": [],
      "source": [
        "model_7 = models.Sequential()\n",
        "model_7.add(layers.Dense(16,  activation='relu', input_shape=(10000,)))\n",
        "model.add(layers.Dropout(0.5))\n",
        "model_7.add(layers.Dense(16, activation='relu'))\n",
        "model.add(layers.Dropout(0.5))\n",
        "model_7.add(layers.Dense(16, activation='relu'))\n",
        "model.add(layers.Dropout(0.5))\n",
        "model_7.add(layers.Dense(1, activation='sigmoid'))"
      ]
    },
    {
      "cell_type": "code",
      "execution_count": null,
      "metadata": {
        "colab": {
          "base_uri": "https://localhost:8080/"
        },
        "id": "cGTIvVJFXpZ6",
        "outputId": "90c76ead-c2a5-4273-ece0-777da4b5d631"
      },
      "outputs": [
        {
          "name": "stdout",
          "output_type": "stream",
          "text": [
            "Epoch 1/20\n",
            "30/30 [==============================] - 2s 41ms/step - loss: 0.2280 - acc: 0.6935 - val_loss: 0.1872 - val_acc: 0.8182\n",
            "Epoch 2/20\n",
            "30/30 [==============================] - 1s 32ms/step - loss: 0.1532 - acc: 0.8577 - val_loss: 0.1362 - val_acc: 0.8461\n",
            "Epoch 3/20\n",
            "30/30 [==============================] - 1s 25ms/step - loss: 0.1033 - acc: 0.8918 - val_loss: 0.1011 - val_acc: 0.8800\n",
            "Epoch 4/20\n",
            "30/30 [==============================] - 1s 22ms/step - loss: 0.0776 - acc: 0.9129 - val_loss: 0.0928 - val_acc: 0.8787\n",
            "Epoch 5/20\n",
            "30/30 [==============================] - 1s 25ms/step - loss: 0.0622 - acc: 0.9287 - val_loss: 0.0851 - val_acc: 0.8854\n",
            "Epoch 6/20\n",
            "30/30 [==============================] - 1s 27ms/step - loss: 0.0523 - acc: 0.9424 - val_loss: 0.0851 - val_acc: 0.8849\n",
            "Epoch 7/20\n",
            "30/30 [==============================] - 1s 28ms/step - loss: 0.0454 - acc: 0.9499 - val_loss: 0.0837 - val_acc: 0.8843\n",
            "Epoch 8/20\n",
            "30/30 [==============================] - 1s 42ms/step - loss: 0.0395 - acc: 0.9587 - val_loss: 0.0843 - val_acc: 0.8843\n",
            "Epoch 9/20\n",
            "30/30 [==============================] - 1s 33ms/step - loss: 0.0349 - acc: 0.9635 - val_loss: 0.0862 - val_acc: 0.8808\n",
            "Epoch 10/20\n",
            "30/30 [==============================] - 1s 26ms/step - loss: 0.0308 - acc: 0.9683 - val_loss: 0.0863 - val_acc: 0.8815\n",
            "Epoch 11/20\n",
            "30/30 [==============================] - 1s 22ms/step - loss: 0.0269 - acc: 0.9739 - val_loss: 0.0880 - val_acc: 0.8800\n",
            "Epoch 12/20\n",
            "30/30 [==============================] - 1s 24ms/step - loss: 0.0225 - acc: 0.9797 - val_loss: 0.1007 - val_acc: 0.8668\n",
            "Epoch 13/20\n",
            "30/30 [==============================] - 1s 26ms/step - loss: 0.0213 - acc: 0.9800 - val_loss: 0.0915 - val_acc: 0.8778\n",
            "Epoch 14/20\n",
            "30/30 [==============================] - 1s 27ms/step - loss: 0.0176 - acc: 0.9846 - val_loss: 0.0931 - val_acc: 0.8763\n",
            "Epoch 15/20\n",
            "30/30 [==============================] - 1s 28ms/step - loss: 0.0169 - acc: 0.9857 - val_loss: 0.0963 - val_acc: 0.8739\n",
            "Epoch 16/20\n",
            "30/30 [==============================] - 1s 32ms/step - loss: 0.0150 - acc: 0.9864 - val_loss: 0.0955 - val_acc: 0.8769\n",
            "Epoch 17/20\n",
            "30/30 [==============================] - 1s 25ms/step - loss: 0.0132 - acc: 0.9885 - val_loss: 0.0970 - val_acc: 0.8743\n",
            "Epoch 18/20\n",
            "30/30 [==============================] - 1s 28ms/step - loss: 0.0130 - acc: 0.9875 - val_loss: 0.0984 - val_acc: 0.8756\n",
            "Epoch 19/20\n",
            "30/30 [==============================] - 1s 31ms/step - loss: 0.0112 - acc: 0.9895 - val_loss: 0.1105 - val_acc: 0.8619\n",
            "Epoch 20/20\n",
            "30/30 [==============================] - 1s 22ms/step - loss: 0.0084 - acc: 0.9932 - val_loss: 0.1010 - val_acc: 0.8721\n",
            "782/782 [==============================] - 2s 2ms/step - loss: 0.1084 - acc: 0.8628\n",
            "____________________________________________________________________________________________________\n",
            "Test Loss and Accuracy\n",
            "results_7  [0.1084369495511055, 0.8627600073814392]\n"
          ]
        },
        {
          "data": {
            "text/plain": [
              "dict_keys(['loss', 'acc', 'val_loss', 'val_acc'])"
            ]
          },
          "execution_count": 24,
          "metadata": {},
          "output_type": "execute_result"
        }
      ],
      "source": [
        "model_7.compile(optimizer='rmsprop', loss='mse', metrics=['acc'])\n",
        "\n",
        "history_7 = model_7.fit(partial_x_train, partial_y_train, epochs=20, batch_size=512, validation_data=(x_val, y_val))\n",
        "\n",
        "results_7= model_7.evaluate(x_test, y_test)\n",
        "print(\"_\"*100)\n",
        "print(\"Test Loss and Accuracy\")\n",
        "print(\"results_7 \", results_7)\n",
        "history_dict_7 = history_7.history\n",
        "history_dict_7.keys()"
      ]
    },
    {
      "cell_type": "markdown",
      "metadata": {
        "id": "IRMywrFZXtMW"
      },
      "source": [
        "one layer with drop out of 0.5"
      ]
    },
    {
      "cell_type": "code",
      "execution_count": null,
      "metadata": {
        "id": "mFTzqRcpXwtz"
      },
      "outputs": [],
      "source": [
        "model_8 = models.Sequential()\n",
        "model_8.add(layers.Dense(16,  activation='relu', input_shape=(10000,)))\n",
        "model_8.add(layers.Dropout(0.5))\n",
        "model_8.add(layers.Dense(1, activation='sigmoid'))"
      ]
    },
    {
      "cell_type": "code",
      "execution_count": null,
      "metadata": {
        "colab": {
          "base_uri": "https://localhost:8080/"
        },
        "id": "Z9WB79PCX1l1",
        "outputId": "2b54bd13-e5d8-42c6-a98e-a8d2782275bc"
      },
      "outputs": [
        {
          "name": "stdout",
          "output_type": "stream",
          "text": [
            "Epoch 1/20\n",
            "30/30 [==============================] - 2s 46ms/step - loss: 0.5511 - acc: 0.7357 - val_loss: 0.4290 - val_acc: 0.8603\n",
            "Epoch 2/20\n",
            "30/30 [==============================] - 1s 31ms/step - loss: 0.3936 - acc: 0.8581 - val_loss: 0.3567 - val_acc: 0.8721\n",
            "Epoch 3/20\n",
            "30/30 [==============================] - 1s 42ms/step - loss: 0.3260 - acc: 0.8834 - val_loss: 0.3313 - val_acc: 0.8722\n",
            "Epoch 4/20\n",
            "30/30 [==============================] - 1s 41ms/step - loss: 0.2822 - acc: 0.9024 - val_loss: 0.2921 - val_acc: 0.8894\n",
            "Epoch 5/20\n",
            "30/30 [==============================] - 1s 27ms/step - loss: 0.2526 - acc: 0.9141 - val_loss: 0.2802 - val_acc: 0.8906\n",
            "Epoch 6/20\n",
            "30/30 [==============================] - 1s 21ms/step - loss: 0.2292 - acc: 0.9221 - val_loss: 0.2886 - val_acc: 0.8825\n",
            "Epoch 7/20\n",
            "30/30 [==============================] - 1s 29ms/step - loss: 0.2065 - acc: 0.9325 - val_loss: 0.2750 - val_acc: 0.8889\n",
            "Epoch 8/20\n",
            "30/30 [==============================] - 1s 32ms/step - loss: 0.1944 - acc: 0.9354 - val_loss: 0.2808 - val_acc: 0.8855\n",
            "Epoch 9/20\n",
            "30/30 [==============================] - 1s 25ms/step - loss: 0.1780 - acc: 0.9437 - val_loss: 0.2720 - val_acc: 0.8880\n",
            "Epoch 10/20\n",
            "30/30 [==============================] - 1s 21ms/step - loss: 0.1651 - acc: 0.9479 - val_loss: 0.2885 - val_acc: 0.8848\n",
            "Epoch 11/20\n",
            "30/30 [==============================] - 1s 22ms/step - loss: 0.1557 - acc: 0.9518 - val_loss: 0.2779 - val_acc: 0.8891\n",
            "Epoch 12/20\n",
            "30/30 [==============================] - 1s 21ms/step - loss: 0.1427 - acc: 0.9558 - val_loss: 0.2817 - val_acc: 0.8891\n",
            "Epoch 13/20\n",
            "30/30 [==============================] - 1s 21ms/step - loss: 0.1331 - acc: 0.9595 - val_loss: 0.2885 - val_acc: 0.8863\n",
            "Epoch 14/20\n",
            "30/30 [==============================] - 1s 31ms/step - loss: 0.1228 - acc: 0.9648 - val_loss: 0.2932 - val_acc: 0.8859\n",
            "Epoch 15/20\n",
            "30/30 [==============================] - 1s 30ms/step - loss: 0.1177 - acc: 0.9637 - val_loss: 0.3006 - val_acc: 0.8850\n",
            "Epoch 16/20\n",
            "30/30 [==============================] - 1s 22ms/step - loss: 0.1102 - acc: 0.9673 - val_loss: 0.3056 - val_acc: 0.8850\n",
            "Epoch 17/20\n",
            "30/30 [==============================] - 1s 21ms/step - loss: 0.1024 - acc: 0.9709 - val_loss: 0.3138 - val_acc: 0.8850\n",
            "Epoch 18/20\n",
            "30/30 [==============================] - 1s 32ms/step - loss: 0.0924 - acc: 0.9743 - val_loss: 0.3297 - val_acc: 0.8804\n",
            "Epoch 19/20\n",
            "30/30 [==============================] - 1s 41ms/step - loss: 0.0893 - acc: 0.9754 - val_loss: 0.3270 - val_acc: 0.8857\n",
            "Epoch 20/20\n",
            "30/30 [==============================] - 1s 27ms/step - loss: 0.0834 - acc: 0.9772 - val_loss: 0.3336 - val_acc: 0.8844\n",
            "782/782 [==============================] - 2s 2ms/step - loss: 0.3545 - acc: 0.8753\n",
            "____________________________________________________________________________________________________\n",
            "Test Loss and Accuracy\n",
            "results_8  [0.35448789596557617, 0.8753200173377991]\n"
          ]
        },
        {
          "data": {
            "text/plain": [
              "dict_keys(['loss', 'acc', 'val_loss', 'val_acc'])"
            ]
          },
          "execution_count": 17,
          "metadata": {},
          "output_type": "execute_result"
        }
      ],
      "source": [
        "model_8.compile(optimizer='rmsprop', loss='binary_crossentropy', metrics=['acc'])\n",
        "\n",
        "history_8 = model_8.fit(partial_x_train, partial_y_train, epochs=20, batch_size=512, validation_data=(x_val, y_val))\n",
        "\n",
        "results_8= model_8.evaluate(x_test, y_test)\n",
        "print(\"_\"*100)\n",
        "print(\"Test Loss and Accuracy\")\n",
        "print(\"results_8 \", results_8)\n",
        "history_dict_8 = history_8.history\n",
        "history_dict_8.keys()"
      ]
    },
    {
      "cell_type": "markdown",
      "metadata": {
        "id": "hMbCQONeYE1h"
      },
      "source": [
        "Using l1 regulariser"
      ]
    },
    {
      "cell_type": "code",
      "execution_count": null,
      "metadata": {
        "id": "psbtE3n-X5F8"
      },
      "outputs": [],
      "source": [
        "model_9 = models.Sequential()\n",
        "model_9.add(layers.Dense(64,  activation='relu', activity_regularizer = regularizers.L1(0.01),input_shape=(10000,)))\n",
        "model_9.add(layers.Dense(1, activation='sigmoid'))"
      ]
    },
    {
      "cell_type": "code",
      "execution_count": null,
      "metadata": {
        "colab": {
          "base_uri": "https://localhost:8080/"
        },
        "id": "4a1XEOw2YI5H",
        "outputId": "0ef48652-986e-438a-d5df-cbff27a906c1"
      },
      "outputs": [
        {
          "name": "stdout",
          "output_type": "stream",
          "text": [
            "Epoch 1/20\n",
            "30/30 [==============================] - 3s 63ms/step - loss: 0.5663 - acc: 0.7862 - val_loss: 0.4990 - val_acc: 0.8243\n",
            "Epoch 2/20\n",
            "30/30 [==============================] - 1s 44ms/step - loss: 0.4080 - acc: 0.8900 - val_loss: 0.4028 - val_acc: 0.8838\n",
            "Epoch 3/20\n",
            "30/30 [==============================] - 1s 40ms/step - loss: 0.3393 - acc: 0.9205 - val_loss: 0.3752 - val_acc: 0.8870\n",
            "Epoch 4/20\n",
            "30/30 [==============================] - 1s 45ms/step - loss: 0.2968 - acc: 0.9353 - val_loss: 0.3778 - val_acc: 0.8775\n",
            "Epoch 5/20\n",
            "30/30 [==============================] - 1s 41ms/step - loss: 0.2682 - acc: 0.9455 - val_loss: 0.3524 - val_acc: 0.8881\n",
            "Epoch 6/20\n",
            "30/30 [==============================] - 1s 42ms/step - loss: 0.2412 - acc: 0.9571 - val_loss: 0.3509 - val_acc: 0.8882\n",
            "Epoch 7/20\n",
            "30/30 [==============================] - 1s 41ms/step - loss: 0.2200 - acc: 0.9647 - val_loss: 0.3478 - val_acc: 0.8861\n",
            "Epoch 8/20\n",
            "30/30 [==============================] - 2s 61ms/step - loss: 0.2003 - acc: 0.9732 - val_loss: 0.3672 - val_acc: 0.8758\n",
            "Epoch 9/20\n",
            "30/30 [==============================] - 2s 60ms/step - loss: 0.1860 - acc: 0.9781 - val_loss: 0.3643 - val_acc: 0.8781\n",
            "Epoch 10/20\n",
            "30/30 [==============================] - 1s 42ms/step - loss: 0.1727 - acc: 0.9828 - val_loss: 0.3631 - val_acc: 0.8847\n",
            "Epoch 11/20\n",
            "30/30 [==============================] - 1s 39ms/step - loss: 0.1588 - acc: 0.9875 - val_loss: 0.3585 - val_acc: 0.8780\n",
            "Epoch 12/20\n",
            "30/30 [==============================] - 1s 39ms/step - loss: 0.1491 - acc: 0.9903 - val_loss: 0.3552 - val_acc: 0.8834\n",
            "Epoch 13/20\n",
            "30/30 [==============================] - 1s 44ms/step - loss: 0.1391 - acc: 0.9921 - val_loss: 0.3599 - val_acc: 0.8791\n",
            "Epoch 14/20\n",
            "30/30 [==============================] - 1s 38ms/step - loss: 0.1293 - acc: 0.9959 - val_loss: 0.3725 - val_acc: 0.8767\n",
            "Epoch 15/20\n",
            "30/30 [==============================] - 1s 38ms/step - loss: 0.1219 - acc: 0.9967 - val_loss: 0.3763 - val_acc: 0.8820\n",
            "Epoch 16/20\n",
            "30/30 [==============================] - 1s 40ms/step - loss: 0.1156 - acc: 0.9976 - val_loss: 0.3762 - val_acc: 0.8814\n",
            "Epoch 17/20\n",
            "30/30 [==============================] - 2s 63ms/step - loss: 0.1105 - acc: 0.9981 - val_loss: 0.3734 - val_acc: 0.8790\n",
            "Epoch 18/20\n",
            "30/30 [==============================] - 1s 45ms/step - loss: 0.1042 - acc: 0.9989 - val_loss: 0.4014 - val_acc: 0.8724\n",
            "Epoch 19/20\n",
            "30/30 [==============================] - 2s 54ms/step - loss: 0.1004 - acc: 0.9993 - val_loss: 0.3789 - val_acc: 0.8786\n",
            "Epoch 20/20\n",
            "30/30 [==============================] - 1s 38ms/step - loss: 0.0951 - acc: 0.9993 - val_loss: 0.3788 - val_acc: 0.8759\n",
            "782/782 [==============================] - 2s 3ms/step - loss: 0.3999 - acc: 0.8667\n",
            "____________________________________________________________________________________________________\n",
            "Test Loss and Accuracy\n",
            "results_9  [0.39990997314453125, 0.8666800260543823]\n"
          ]
        },
        {
          "data": {
            "text/plain": [
              "dict_keys(['loss', 'acc', 'val_loss', 'val_acc'])"
            ]
          },
          "execution_count": 19,
          "metadata": {},
          "output_type": "execute_result"
        }
      ],
      "source": [
        "model_9.compile(optimizer='rmsprop', loss='binary_crossentropy', metrics=['acc'])\n",
        "\n",
        "history_9 = model_9.fit(partial_x_train, partial_y_train, epochs=20, batch_size=512, validation_data=(x_val, y_val))\n",
        "\n",
        "results_9= model_9.evaluate(x_test, y_test)\n",
        "print(\"_\"*100)\n",
        "print(\"Test Loss and Accuracy\")\n",
        "print(\"results_9 \", results_9)\n",
        "history_dict_9 = history_9.history\n",
        "history_dict_9.keys()"
      ]
    },
    {
      "cell_type": "markdown",
      "metadata": {
        "id": "YnGjPeXIYOSp"
      },
      "source": [
        "Using l2 regulariser"
      ]
    },
    {
      "cell_type": "code",
      "execution_count": null,
      "metadata": {
        "id": "XDj-lS6cYQ9q"
      },
      "outputs": [],
      "source": [
        "model_10 = models.Sequential()\n",
        "model_10.add(layers.Dense(64,  activation='relu', activity_regularizer = regularizers.L2(0.01),input_shape=(10000,)))\n",
        "model_10.add(layers.Dense(1, activation='sigmoid'))"
      ]
    },
    {
      "cell_type": "code",
      "execution_count": null,
      "metadata": {
        "colab": {
          "base_uri": "https://localhost:8080/"
        },
        "id": "Mv-7n6j0YToE",
        "outputId": "d133cd6b-acd4-413d-bf5c-358265b1d33e"
      },
      "outputs": [
        {
          "name": "stdout",
          "output_type": "stream",
          "text": [
            "Epoch 1/20\n",
            "30/30 [==============================] - 3s 74ms/step - loss: 0.5354 - acc: 0.7773 - val_loss: 0.4255 - val_acc: 0.8616\n",
            "Epoch 2/20\n",
            "30/30 [==============================] - 2s 58ms/step - loss: 0.3654 - acc: 0.8954 - val_loss: 0.3646 - val_acc: 0.8819\n",
            "Epoch 3/20\n",
            "30/30 [==============================] - 2s 69ms/step - loss: 0.2983 - acc: 0.9211 - val_loss: 0.3382 - val_acc: 0.8870\n",
            "Epoch 4/20\n",
            "30/30 [==============================] - 2s 53ms/step - loss: 0.2591 - acc: 0.9358 - val_loss: 0.3392 - val_acc: 0.8788\n",
            "Epoch 5/20\n",
            "30/30 [==============================] - 1s 38ms/step - loss: 0.2303 - acc: 0.9457 - val_loss: 0.3424 - val_acc: 0.8769\n",
            "Epoch 6/20\n",
            "30/30 [==============================] - 1s 39ms/step - loss: 0.2051 - acc: 0.9552 - val_loss: 0.3175 - val_acc: 0.8841\n",
            "Epoch 7/20\n",
            "30/30 [==============================] - 2s 52ms/step - loss: 0.1833 - acc: 0.9648 - val_loss: 0.3160 - val_acc: 0.8838\n",
            "Epoch 8/20\n",
            "30/30 [==============================] - 1s 40ms/step - loss: 0.1612 - acc: 0.9743 - val_loss: 0.3573 - val_acc: 0.8704\n",
            "Epoch 9/20\n",
            "30/30 [==============================] - 2s 59ms/step - loss: 0.1498 - acc: 0.9761 - val_loss: 0.3235 - val_acc: 0.8837\n",
            "Epoch 10/20\n",
            "30/30 [==============================] - 1s 40ms/step - loss: 0.1364 - acc: 0.9821 - val_loss: 0.3316 - val_acc: 0.8829\n",
            "Epoch 11/20\n",
            "30/30 [==============================] - 2s 57ms/step - loss: 0.1231 - acc: 0.9853 - val_loss: 0.3434 - val_acc: 0.8697\n",
            "Epoch 12/20\n",
            "30/30 [==============================] - 2s 66ms/step - loss: 0.1085 - acc: 0.9913 - val_loss: 0.3483 - val_acc: 0.8773\n",
            "Epoch 13/20\n",
            "30/30 [==============================] - 1s 43ms/step - loss: 0.1057 - acc: 0.9909 - val_loss: 0.3357 - val_acc: 0.8814\n",
            "Epoch 14/20\n",
            "30/30 [==============================] - 1s 38ms/step - loss: 0.0903 - acc: 0.9959 - val_loss: 0.3385 - val_acc: 0.8779\n",
            "Epoch 15/20\n",
            "30/30 [==============================] - 2s 57ms/step - loss: 0.0868 - acc: 0.9948 - val_loss: 0.3539 - val_acc: 0.8775\n",
            "Epoch 16/20\n",
            "30/30 [==============================] - 1s 49ms/step - loss: 0.0845 - acc: 0.9947 - val_loss: 0.3591 - val_acc: 0.8667\n",
            "Epoch 17/20\n",
            "30/30 [==============================] - 1s 38ms/step - loss: 0.0758 - acc: 0.9957 - val_loss: 0.3625 - val_acc: 0.8734\n",
            "Epoch 18/20\n",
            "30/30 [==============================] - 2s 52ms/step - loss: 0.0732 - acc: 0.9949 - val_loss: 0.3548 - val_acc: 0.8780\n",
            "Epoch 19/20\n",
            "30/30 [==============================] - 2s 73ms/step - loss: 0.0672 - acc: 0.9974 - val_loss: 0.3583 - val_acc: 0.8778\n",
            "Epoch 20/20\n",
            "30/30 [==============================] - 2s 50ms/step - loss: 0.0656 - acc: 0.9963 - val_loss: 0.3601 - val_acc: 0.8776\n"
          ]
        }
      ],
      "source": [
        "model_10.compile(optimizer='rmsprop', loss='binary_crossentropy', metrics=['acc'])\n",
        "\n",
        "history_10 = model_10.fit(partial_x_train, partial_y_train, epochs=20, batch_size=512, validation_data=(x_val, y_val))\n",
        "\n",
        "results_10= model_10.evaluate(x_test, y_test)\n",
        "print(\"_\"*100)\n",
        "print(\"Test Loss and Accuracy\")\n",
        "print(\"results_10 \", results_10)\n",
        "history_dict_10 = history_10.history\n",
        "history_dict_10.keys()"
      ]
    },
    {
      "cell_type": "markdown",
      "metadata": {
        "id": "Ufl8iTD0YW5W"
      },
      "source": [
        "Using adam optimizer instead of rmsprop"
      ]
    },
    {
      "cell_type": "code",
      "execution_count": null,
      "metadata": {
        "id": "mftIgFCLYWPT"
      },
      "outputs": [],
      "source": [
        "model_11= models.Sequential()\n",
        "model_11.add(layers.Dense(64,  activation='relu', activity_regularizer = regularizers.L1(0.01),input_shape=(10000,)))\n",
        "model_11.add(layers.Dense(1, activation='sigmoid'))"
      ]
    },
    {
      "cell_type": "code",
      "execution_count": null,
      "metadata": {
        "colab": {
          "base_uri": "https://localhost:8080/"
        },
        "id": "mxZcwCg4YdI5",
        "outputId": "4b5a05a3-eae8-41ec-e7a7-bef407882d75"
      },
      "outputs": [
        {
          "name": "stdout",
          "output_type": "stream",
          "text": [
            "Epoch 1/20\n",
            "30/30 [==============================] - 3s 84ms/step - loss: 0.2331 - acc: 0.7053 - val_loss: 0.2008 - val_acc: 0.8389\n",
            "Epoch 2/20\n",
            "30/30 [==============================] - 2s 51ms/step - loss: 0.1856 - acc: 0.8470 - val_loss: 0.1733 - val_acc: 0.8582\n",
            "Epoch 3/20\n",
            "30/30 [==============================] - 1s 40ms/step - loss: 0.1622 - acc: 0.8809 - val_loss: 0.1579 - val_acc: 0.8714\n",
            "Epoch 4/20\n",
            "30/30 [==============================] - 1s 44ms/step - loss: 0.1473 - acc: 0.8990 - val_loss: 0.1476 - val_acc: 0.8811\n",
            "Epoch 5/20\n",
            "30/30 [==============================] - 2s 59ms/step - loss: 0.1363 - acc: 0.9143 - val_loss: 0.1420 - val_acc: 0.8833\n",
            "Epoch 6/20\n",
            "30/30 [==============================] - 2s 52ms/step - loss: 0.1276 - acc: 0.9235 - val_loss: 0.1368 - val_acc: 0.8862\n",
            "Epoch 7/20\n",
            "30/30 [==============================] - 1s 42ms/step - loss: 0.1197 - acc: 0.9329 - val_loss: 0.1340 - val_acc: 0.8859\n",
            "Epoch 8/20\n",
            "30/30 [==============================] - 1s 46ms/step - loss: 0.1131 - acc: 0.9385 - val_loss: 0.1330 - val_acc: 0.8808\n",
            "Epoch 9/20\n",
            "30/30 [==============================] - 2s 72ms/step - loss: 0.1081 - acc: 0.9463 - val_loss: 0.1288 - val_acc: 0.8858\n",
            "Epoch 10/20\n",
            "30/30 [==============================] - 2s 59ms/step - loss: 0.1030 - acc: 0.9489 - val_loss: 0.1285 - val_acc: 0.8858\n",
            "Epoch 11/20\n",
            "30/30 [==============================] - 2s 62ms/step - loss: 0.0975 - acc: 0.9566 - val_loss: 0.1276 - val_acc: 0.8830\n",
            "Epoch 12/20\n",
            "30/30 [==============================] - 2s 56ms/step - loss: 0.0940 - acc: 0.9602 - val_loss: 0.1250 - val_acc: 0.8853\n",
            "Epoch 13/20\n",
            "30/30 [==============================] - 1s 46ms/step - loss: 0.0887 - acc: 0.9647 - val_loss: 0.1282 - val_acc: 0.8832\n",
            "Epoch 14/20\n",
            "30/30 [==============================] - 1s 39ms/step - loss: 0.0856 - acc: 0.9687 - val_loss: 0.1239 - val_acc: 0.8839\n",
            "Epoch 15/20\n",
            "30/30 [==============================] - 1s 40ms/step - loss: 0.0830 - acc: 0.9705 - val_loss: 0.1229 - val_acc: 0.8850\n",
            "Epoch 16/20\n",
            "30/30 [==============================] - 1s 50ms/step - loss: 0.0794 - acc: 0.9733 - val_loss: 0.1219 - val_acc: 0.8839\n",
            "Epoch 17/20\n",
            "30/30 [==============================] - 2s 76ms/step - loss: 0.0767 - acc: 0.9745 - val_loss: 0.1217 - val_acc: 0.8827\n",
            "Epoch 18/20\n",
            "30/30 [==============================] - 1s 42ms/step - loss: 0.0736 - acc: 0.9774 - val_loss: 0.1211 - val_acc: 0.8830\n",
            "Epoch 19/20\n",
            "30/30 [==============================] - 1s 47ms/step - loss: 0.0717 - acc: 0.9775 - val_loss: 0.1231 - val_acc: 0.8820\n",
            "Epoch 20/20\n",
            "30/30 [==============================] - 2s 54ms/step - loss: 0.0691 - acc: 0.9816 - val_loss: 0.1210 - val_acc: 0.8833\n",
            "782/782 [==============================] - 3s 3ms/step - loss: 0.1255 - acc: 0.8721\n",
            "____________________________________________________________________________________________________\n",
            "Test Loss and Accuracy\n",
            "results_11  [0.12553882598876953, 0.8721200227737427]\n"
          ]
        },
        {
          "data": {
            "text/plain": [
              "dict_keys(['loss', 'acc', 'val_loss', 'val_acc'])"
            ]
          },
          "execution_count": 10,
          "metadata": {},
          "output_type": "execute_result"
        }
      ],
      "source": [
        "model_11.compile(optimizer='rmsprop', loss='binary_crossentropy', metrics=['acc'])\n",
        "\n",
        "history_11 = model_11.fit(partial_x_train, partial_y_train, epochs=20, batch_size=512, validation_data=(x_val, y_val))\n",
        "\n",
        "results_11= model_11.evaluate(x_test, y_test)\n",
        "print(\"_\"*100)\n",
        "print(\"Test Loss and Accuracy\")\n",
        "print(\"results_11 \", results_11)\n",
        "history_dict_11 = history_11.history\n",
        "history_dict_11.keys()"
      ]
    },
    {
      "cell_type": "markdown",
      "source": [],
      "metadata": {
        "id": "OWChtLuVYP7M"
      }
    }
  ],
  "metadata": {
    "colab": {
      "provenance": []
    },
    "kernelspec": {
      "display_name": "Python 3 (ipykernel)",
      "language": "python",
      "name": "python3"
    },
    "language_info": {
      "codemirror_mode": {
        "name": "ipython",
        "version": 3
      },
      "file_extension": ".py",
      "mimetype": "text/x-python",
      "name": "python",
      "nbconvert_exporter": "python",
      "pygments_lexer": "ipython3",
      "version": "3.9.7"
    }
  },
  "nbformat": 4,
  "nbformat_minor": 0
}